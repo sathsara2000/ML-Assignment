{
 "cells": [
  {
   "cell_type": "code",
   "execution_count": 1,
   "metadata": {
    "executionInfo": {
     "elapsed": 1054,
     "status": "ok",
     "timestamp": 1704444124944,
     "user": {
      "displayName": "Pasindu Wijewardhana",
      "userId": "07413258397888837331"
     },
     "user_tz": -330
    },
    "id": "1Wr18AmKZNQV"
   },
   "outputs": [],
   "source": [
    "import numpy as np\n",
    "import pandas as pd\n"
   ]
  },
  {
   "cell_type": "code",
   "execution_count": 2,
   "metadata": {
    "executionInfo": {
     "elapsed": 499,
     "status": "ok",
     "timestamp": 1704444125441,
     "user": {
      "displayName": "Pasindu Wijewardhana",
      "userId": "07413258397888837331"
     },
     "user_tz": -330
    },
    "id": "MRqZKMCiZ2D0"
   },
   "outputs": [],
   "source": [
    "dataset=pd.read_csv(\"Weather_Dataset.csv\")"
   ]
  },
  {
   "cell_type": "code",
   "execution_count": 3,
   "metadata": {
    "executionInfo": {
     "elapsed": 3,
     "status": "ok",
     "timestamp": 1704444125442,
     "user": {
      "displayName": "Pasindu Wijewardhana",
      "userId": "07413258397888837331"
     },
     "user_tz": -330
    },
    "id": "bJgJZzgdbkrV"
   },
   "outputs": [],
   "source": [
    "df=dataset"
   ]
  },
  {
   "cell_type": "code",
   "execution_count": 4,
   "metadata": {
    "executionInfo": {
     "elapsed": 2,
     "status": "ok",
     "timestamp": 1704444125442,
     "user": {
      "displayName": "Pasindu Wijewardhana",
      "userId": "07413258397888837331"
     },
     "user_tz": -330
    },
    "id": "Wx7w05BrbtsW"
   },
   "outputs": [],
   "source": [
    "#convert the time column in to datetime mode\n",
    "df['time']=pd.to_datetime(df['time'])"
   ]
  },
  {
   "cell_type": "code",
   "execution_count": 5,
   "metadata": {
    "executionInfo": {
     "elapsed": 506,
     "status": "ok",
     "timestamp": 1704444125946,
     "user": {
      "displayName": "Pasindu Wijewardhana",
      "userId": "07413258397888837331"
     },
     "user_tz": -330
    },
    "id": "wtJbJZO4cDAc"
   },
   "outputs": [],
   "source": [
    "#Create a new column named \"Year\"\n",
    "df['year']=df['time'].dt.year"
   ]
  },
  {
   "cell_type": "code",
   "execution_count": 6,
   "metadata": {
    "executionInfo": {
     "elapsed": 7,
     "status": "ok",
     "timestamp": 1704444125946,
     "user": {
      "displayName": "Pasindu Wijewardhana",
      "userId": "07413258397888837331"
     },
     "user_tz": -330
    },
    "id": "NioKoczXcucf"
   },
   "outputs": [],
   "source": [
    "#Create a new column named \"month\"\n",
    "df['month']=df['time'].dt.month"
   ]
  },
  {
   "cell_type": "code",
   "execution_count": 7,
   "metadata": {
    "colab": {
     "base_uri": "https://localhost:8080/",
     "height": 617
    },
    "executionInfo": {
     "elapsed": 8,
     "status": "ok",
     "timestamp": 1704444125947,
     "user": {
      "displayName": "Pasindu Wijewardhana",
      "userId": "07413258397888837331"
     },
     "user_tz": -330
    },
    "id": "F_lApbcxc2PT",
    "outputId": "9a140933-d343-4b48-d9c8-2d33d4683dd7"
   },
   "outputs": [
    {
     "data": {
      "text/html": [
       "<div>\n",
       "<style scoped>\n",
       "    .dataframe tbody tr th:only-of-type {\n",
       "        vertical-align: middle;\n",
       "    }\n",
       "\n",
       "    .dataframe tbody tr th {\n",
       "        vertical-align: top;\n",
       "    }\n",
       "\n",
       "    .dataframe thead th {\n",
       "        text-align: right;\n",
       "    }\n",
       "</style>\n",
       "<table border=\"1\" class=\"dataframe\">\n",
       "  <thead>\n",
       "    <tr style=\"text-align: right;\">\n",
       "      <th></th>\n",
       "      <th>time</th>\n",
       "      <th>weathercode</th>\n",
       "      <th>temperature_2m_max</th>\n",
       "      <th>temperature_2m_min</th>\n",
       "      <th>temperature_2m_mean</th>\n",
       "      <th>apparent_temperature_max</th>\n",
       "      <th>apparent_temperature_min</th>\n",
       "      <th>apparent_temperature_mean</th>\n",
       "      <th>sunrise</th>\n",
       "      <th>sunset</th>\n",
       "      <th>...</th>\n",
       "      <th>windgusts_10m_max</th>\n",
       "      <th>winddirection_10m_dominant</th>\n",
       "      <th>et0_fao_evapotranspiration</th>\n",
       "      <th>latitude</th>\n",
       "      <th>longitude</th>\n",
       "      <th>elevation</th>\n",
       "      <th>country</th>\n",
       "      <th>city</th>\n",
       "      <th>year</th>\n",
       "      <th>month</th>\n",
       "    </tr>\n",
       "  </thead>\n",
       "  <tbody>\n",
       "    <tr>\n",
       "      <th>0</th>\n",
       "      <td>2010-01-01</td>\n",
       "      <td>2</td>\n",
       "      <td>30.0</td>\n",
       "      <td>22.7</td>\n",
       "      <td>26.1</td>\n",
       "      <td>34.4</td>\n",
       "      <td>25.2</td>\n",
       "      <td>29.2</td>\n",
       "      <td>2010-01-01T00:52</td>\n",
       "      <td>2010-01-01T12:35</td>\n",
       "      <td>...</td>\n",
       "      <td>27.4</td>\n",
       "      <td>20</td>\n",
       "      <td>4.58</td>\n",
       "      <td>7.000000</td>\n",
       "      <td>79.899994</td>\n",
       "      <td>16.0</td>\n",
       "      <td>Sri Lanka</td>\n",
       "      <td>Colombo</td>\n",
       "      <td>2010</td>\n",
       "      <td>1</td>\n",
       "    </tr>\n",
       "    <tr>\n",
       "      <th>1</th>\n",
       "      <td>2010-01-02</td>\n",
       "      <td>51</td>\n",
       "      <td>29.9</td>\n",
       "      <td>23.5</td>\n",
       "      <td>26.2</td>\n",
       "      <td>33.8</td>\n",
       "      <td>26.2</td>\n",
       "      <td>29.8</td>\n",
       "      <td>2010-01-02T00:52</td>\n",
       "      <td>2010-01-02T12:36</td>\n",
       "      <td>...</td>\n",
       "      <td>27.0</td>\n",
       "      <td>24</td>\n",
       "      <td>3.84</td>\n",
       "      <td>7.000000</td>\n",
       "      <td>79.899994</td>\n",
       "      <td>16.0</td>\n",
       "      <td>Sri Lanka</td>\n",
       "      <td>Colombo</td>\n",
       "      <td>2010</td>\n",
       "      <td>1</td>\n",
       "    </tr>\n",
       "    <tr>\n",
       "      <th>2</th>\n",
       "      <td>2010-01-03</td>\n",
       "      <td>51</td>\n",
       "      <td>29.5</td>\n",
       "      <td>23.2</td>\n",
       "      <td>26.0</td>\n",
       "      <td>34.3</td>\n",
       "      <td>26.3</td>\n",
       "      <td>29.9</td>\n",
       "      <td>2010-01-03T00:53</td>\n",
       "      <td>2010-01-03T12:36</td>\n",
       "      <td>...</td>\n",
       "      <td>27.4</td>\n",
       "      <td>16</td>\n",
       "      <td>3.65</td>\n",
       "      <td>7.000000</td>\n",
       "      <td>79.899994</td>\n",
       "      <td>16.0</td>\n",
       "      <td>Sri Lanka</td>\n",
       "      <td>Colombo</td>\n",
       "      <td>2010</td>\n",
       "      <td>1</td>\n",
       "    </tr>\n",
       "    <tr>\n",
       "      <th>3</th>\n",
       "      <td>2010-01-04</td>\n",
       "      <td>2</td>\n",
       "      <td>28.9</td>\n",
       "      <td>21.9</td>\n",
       "      <td>25.3</td>\n",
       "      <td>31.6</td>\n",
       "      <td>23.4</td>\n",
       "      <td>27.8</td>\n",
       "      <td>2010-01-04T00:53</td>\n",
       "      <td>2010-01-04T12:37</td>\n",
       "      <td>...</td>\n",
       "      <td>34.6</td>\n",
       "      <td>356</td>\n",
       "      <td>3.79</td>\n",
       "      <td>7.000000</td>\n",
       "      <td>79.899994</td>\n",
       "      <td>16.0</td>\n",
       "      <td>Sri Lanka</td>\n",
       "      <td>Colombo</td>\n",
       "      <td>2010</td>\n",
       "      <td>1</td>\n",
       "    </tr>\n",
       "    <tr>\n",
       "      <th>4</th>\n",
       "      <td>2010-01-05</td>\n",
       "      <td>1</td>\n",
       "      <td>28.1</td>\n",
       "      <td>21.3</td>\n",
       "      <td>24.5</td>\n",
       "      <td>30.1</td>\n",
       "      <td>23.1</td>\n",
       "      <td>26.1</td>\n",
       "      <td>2010-01-05T00:53</td>\n",
       "      <td>2010-01-05T12:37</td>\n",
       "      <td>...</td>\n",
       "      <td>37.1</td>\n",
       "      <td>355</td>\n",
       "      <td>4.97</td>\n",
       "      <td>7.000000</td>\n",
       "      <td>79.899994</td>\n",
       "      <td>16.0</td>\n",
       "      <td>Sri Lanka</td>\n",
       "      <td>Colombo</td>\n",
       "      <td>2010</td>\n",
       "      <td>1</td>\n",
       "    </tr>\n",
       "    <tr>\n",
       "      <th>...</th>\n",
       "      <td>...</td>\n",
       "      <td>...</td>\n",
       "      <td>...</td>\n",
       "      <td>...</td>\n",
       "      <td>...</td>\n",
       "      <td>...</td>\n",
       "      <td>...</td>\n",
       "      <td>...</td>\n",
       "      <td>...</td>\n",
       "      <td>...</td>\n",
       "      <td>...</td>\n",
       "      <td>...</td>\n",
       "      <td>...</td>\n",
       "      <td>...</td>\n",
       "      <td>...</td>\n",
       "      <td>...</td>\n",
       "      <td>...</td>\n",
       "      <td>...</td>\n",
       "      <td>...</td>\n",
       "      <td>...</td>\n",
       "      <td>...</td>\n",
       "    </tr>\n",
       "    <tr>\n",
       "      <th>147475</th>\n",
       "      <td>2023-06-13</td>\n",
       "      <td>63</td>\n",
       "      <td>29.2</td>\n",
       "      <td>24.7</td>\n",
       "      <td>26.6</td>\n",
       "      <td>35.4</td>\n",
       "      <td>29.2</td>\n",
       "      <td>31.6</td>\n",
       "      <td>2023-06-13T00:24</td>\n",
       "      <td>2023-06-13T12:55</td>\n",
       "      <td>...</td>\n",
       "      <td>43.6</td>\n",
       "      <td>229</td>\n",
       "      <td>3.41</td>\n",
       "      <td>6.900002</td>\n",
       "      <td>80.000000</td>\n",
       "      <td>20.0</td>\n",
       "      <td>Sri Lanka</td>\n",
       "      <td>Oruwala</td>\n",
       "      <td>2023</td>\n",
       "      <td>6</td>\n",
       "    </tr>\n",
       "    <tr>\n",
       "      <th>147476</th>\n",
       "      <td>2023-06-14</td>\n",
       "      <td>61</td>\n",
       "      <td>29.1</td>\n",
       "      <td>25.4</td>\n",
       "      <td>26.9</td>\n",
       "      <td>34.3</td>\n",
       "      <td>30.4</td>\n",
       "      <td>32.0</td>\n",
       "      <td>2023-06-14T00:24</td>\n",
       "      <td>2023-06-14T12:55</td>\n",
       "      <td>...</td>\n",
       "      <td>40.0</td>\n",
       "      <td>224</td>\n",
       "      <td>3.00</td>\n",
       "      <td>6.900002</td>\n",
       "      <td>80.000000</td>\n",
       "      <td>20.0</td>\n",
       "      <td>Sri Lanka</td>\n",
       "      <td>Oruwala</td>\n",
       "      <td>2023</td>\n",
       "      <td>6</td>\n",
       "    </tr>\n",
       "    <tr>\n",
       "      <th>147477</th>\n",
       "      <td>2023-06-15</td>\n",
       "      <td>51</td>\n",
       "      <td>29.8</td>\n",
       "      <td>25.5</td>\n",
       "      <td>27.3</td>\n",
       "      <td>36.6</td>\n",
       "      <td>30.7</td>\n",
       "      <td>32.7</td>\n",
       "      <td>2023-06-15T00:24</td>\n",
       "      <td>2023-06-15T12:56</td>\n",
       "      <td>...</td>\n",
       "      <td>32.4</td>\n",
       "      <td>218</td>\n",
       "      <td>3.21</td>\n",
       "      <td>6.900002</td>\n",
       "      <td>80.000000</td>\n",
       "      <td>20.0</td>\n",
       "      <td>Sri Lanka</td>\n",
       "      <td>Oruwala</td>\n",
       "      <td>2023</td>\n",
       "      <td>6</td>\n",
       "    </tr>\n",
       "    <tr>\n",
       "      <th>147478</th>\n",
       "      <td>2023-06-16</td>\n",
       "      <td>53</td>\n",
       "      <td>30.5</td>\n",
       "      <td>25.5</td>\n",
       "      <td>27.7</td>\n",
       "      <td>36.2</td>\n",
       "      <td>30.1</td>\n",
       "      <td>32.4</td>\n",
       "      <td>2023-06-16T00:25</td>\n",
       "      <td>2023-06-16T12:56</td>\n",
       "      <td>...</td>\n",
       "      <td>41.8</td>\n",
       "      <td>236</td>\n",
       "      <td>3.97</td>\n",
       "      <td>6.900002</td>\n",
       "      <td>80.000000</td>\n",
       "      <td>20.0</td>\n",
       "      <td>Sri Lanka</td>\n",
       "      <td>Oruwala</td>\n",
       "      <td>2023</td>\n",
       "      <td>6</td>\n",
       "    </tr>\n",
       "    <tr>\n",
       "      <th>147479</th>\n",
       "      <td>2023-06-17</td>\n",
       "      <td>51</td>\n",
       "      <td>29.6</td>\n",
       "      <td>25.2</td>\n",
       "      <td>26.9</td>\n",
       "      <td>35.9</td>\n",
       "      <td>30.1</td>\n",
       "      <td>32.0</td>\n",
       "      <td>2023-06-17T00:25</td>\n",
       "      <td>2023-06-17T12:56</td>\n",
       "      <td>...</td>\n",
       "      <td>37.8</td>\n",
       "      <td>231</td>\n",
       "      <td>2.95</td>\n",
       "      <td>6.900002</td>\n",
       "      <td>80.000000</td>\n",
       "      <td>20.0</td>\n",
       "      <td>Sri Lanka</td>\n",
       "      <td>Oruwala</td>\n",
       "      <td>2023</td>\n",
       "      <td>6</td>\n",
       "    </tr>\n",
       "  </tbody>\n",
       "</table>\n",
       "<p>147480 rows × 26 columns</p>\n",
       "</div>"
      ],
      "text/plain": [
       "             time  weathercode  temperature_2m_max  temperature_2m_min  \\\n",
       "0      2010-01-01            2                30.0                22.7   \n",
       "1      2010-01-02           51                29.9                23.5   \n",
       "2      2010-01-03           51                29.5                23.2   \n",
       "3      2010-01-04            2                28.9                21.9   \n",
       "4      2010-01-05            1                28.1                21.3   \n",
       "...           ...          ...                 ...                 ...   \n",
       "147475 2023-06-13           63                29.2                24.7   \n",
       "147476 2023-06-14           61                29.1                25.4   \n",
       "147477 2023-06-15           51                29.8                25.5   \n",
       "147478 2023-06-16           53                30.5                25.5   \n",
       "147479 2023-06-17           51                29.6                25.2   \n",
       "\n",
       "        temperature_2m_mean  apparent_temperature_max  \\\n",
       "0                      26.1                      34.4   \n",
       "1                      26.2                      33.8   \n",
       "2                      26.0                      34.3   \n",
       "3                      25.3                      31.6   \n",
       "4                      24.5                      30.1   \n",
       "...                     ...                       ...   \n",
       "147475                 26.6                      35.4   \n",
       "147476                 26.9                      34.3   \n",
       "147477                 27.3                      36.6   \n",
       "147478                 27.7                      36.2   \n",
       "147479                 26.9                      35.9   \n",
       "\n",
       "        apparent_temperature_min  apparent_temperature_mean           sunrise  \\\n",
       "0                           25.2                       29.2  2010-01-01T00:52   \n",
       "1                           26.2                       29.8  2010-01-02T00:52   \n",
       "2                           26.3                       29.9  2010-01-03T00:53   \n",
       "3                           23.4                       27.8  2010-01-04T00:53   \n",
       "4                           23.1                       26.1  2010-01-05T00:53   \n",
       "...                          ...                        ...               ...   \n",
       "147475                      29.2                       31.6  2023-06-13T00:24   \n",
       "147476                      30.4                       32.0  2023-06-14T00:24   \n",
       "147477                      30.7                       32.7  2023-06-15T00:24   \n",
       "147478                      30.1                       32.4  2023-06-16T00:25   \n",
       "147479                      30.1                       32.0  2023-06-17T00:25   \n",
       "\n",
       "                  sunset  ...  windgusts_10m_max  winddirection_10m_dominant  \\\n",
       "0       2010-01-01T12:35  ...               27.4                          20   \n",
       "1       2010-01-02T12:36  ...               27.0                          24   \n",
       "2       2010-01-03T12:36  ...               27.4                          16   \n",
       "3       2010-01-04T12:37  ...               34.6                         356   \n",
       "4       2010-01-05T12:37  ...               37.1                         355   \n",
       "...                  ...  ...                ...                         ...   \n",
       "147475  2023-06-13T12:55  ...               43.6                         229   \n",
       "147476  2023-06-14T12:55  ...               40.0                         224   \n",
       "147477  2023-06-15T12:56  ...               32.4                         218   \n",
       "147478  2023-06-16T12:56  ...               41.8                         236   \n",
       "147479  2023-06-17T12:56  ...               37.8                         231   \n",
       "\n",
       "        et0_fao_evapotranspiration  latitude  longitude  elevation    country  \\\n",
       "0                             4.58  7.000000  79.899994       16.0  Sri Lanka   \n",
       "1                             3.84  7.000000  79.899994       16.0  Sri Lanka   \n",
       "2                             3.65  7.000000  79.899994       16.0  Sri Lanka   \n",
       "3                             3.79  7.000000  79.899994       16.0  Sri Lanka   \n",
       "4                             4.97  7.000000  79.899994       16.0  Sri Lanka   \n",
       "...                            ...       ...        ...        ...        ...   \n",
       "147475                        3.41  6.900002  80.000000       20.0  Sri Lanka   \n",
       "147476                        3.00  6.900002  80.000000       20.0  Sri Lanka   \n",
       "147477                        3.21  6.900002  80.000000       20.0  Sri Lanka   \n",
       "147478                        3.97  6.900002  80.000000       20.0  Sri Lanka   \n",
       "147479                        2.95  6.900002  80.000000       20.0  Sri Lanka   \n",
       "\n",
       "           city  year  month  \n",
       "0       Colombo  2010      1  \n",
       "1       Colombo  2010      1  \n",
       "2       Colombo  2010      1  \n",
       "3       Colombo  2010      1  \n",
       "4       Colombo  2010      1  \n",
       "...         ...   ...    ...  \n",
       "147475  Oruwala  2023      6  \n",
       "147476  Oruwala  2023      6  \n",
       "147477  Oruwala  2023      6  \n",
       "147478  Oruwala  2023      6  \n",
       "147479  Oruwala  2023      6  \n",
       "\n",
       "[147480 rows x 26 columns]"
      ]
     },
     "execution_count": 7,
     "metadata": {},
     "output_type": "execute_result"
    }
   ],
   "source": [
    "df"
   ]
  },
  {
   "cell_type": "code",
   "execution_count": 8,
   "metadata": {
    "colab": {
     "base_uri": "https://localhost:8080/"
    },
    "executionInfo": {
     "elapsed": 5,
     "status": "ok",
     "timestamp": 1704444125947,
     "user": {
      "displayName": "Pasindu Wijewardhana",
      "userId": "07413258397888837331"
     },
     "user_tz": -330
    },
    "id": "QO0nq4oMfBZf",
    "outputId": "5087aaa9-310f-4a39-81c0-63660ea546b5"
   },
   "outputs": [
    {
     "name": "stdout",
     "output_type": "stream",
     "text": [
      "time                               0\n",
      "weathercode                     1024\n",
      "temperature_2m_max                 0\n",
      "temperature_2m_min                 0\n",
      "temperature_2m_mean                0\n",
      "apparent_temperature_max           0\n",
      "apparent_temperature_min           0\n",
      "apparent_temperature_mean          0\n",
      "sunrise                            0\n",
      "sunset                             0\n",
      "shortwave_radiation_sum            0\n",
      "precipitation_sum              26727\n",
      "rain_sum                       26727\n",
      "snowfall_sum                  147480\n",
      "precipitation_hours            26727\n",
      "windspeed_10m_max                  0\n",
      "windgusts_10m_max                  0\n",
      "winddirection_10m_dominant       126\n",
      "et0_fao_evapotranspiration         0\n",
      "latitude                           0\n",
      "longitude                          0\n",
      "elevation                       9832\n",
      "country                            0\n",
      "city                               0\n",
      "year                               0\n",
      "month                              0\n",
      "dtype: int64\n"
     ]
    }
   ],
   "source": [
    "\n",
    "# Check for 0 values in each column\n",
    "zero_values = (df == 0).sum()\n",
    "\n",
    "# Display the count of 0 values for each column\n",
    "print(zero_values)"
   ]
  },
  {
   "cell_type": "code",
   "execution_count": null,
   "metadata": {
    "colab": {
     "base_uri": "https://localhost:8080/"
    },
    "executionInfo": {
     "elapsed": 43046,
     "status": "ok",
     "timestamp": 1704444168989,
     "user": {
      "displayName": "Pasindu Wijewardhana",
      "userId": "07413258397888837331"
     },
     "user_tz": -330
    },
    "id": "1I6hTZV7gE56",
    "outputId": "e037ef30-ab26-4506-f730-cb9b91060e0d"
   },
   "outputs": [],
   "source": [
    "# Replace 0 values with the mean of each column\n",
    "df.replace(0, df.mean(), inplace=True)"
   ]
  },
  {
   "cell_type": "code",
   "execution_count": null,
   "metadata": {
    "colab": {
     "base_uri": "https://localhost:8080/"
    },
    "executionInfo": {
     "elapsed": 10,
     "status": "ok",
     "timestamp": 1704444168989,
     "user": {
      "displayName": "Pasindu Wijewardhana",
      "userId": "07413258397888837331"
     },
     "user_tz": -330
    },
    "id": "5LRz6WWGglVw",
    "outputId": "cd10164b-ef35-477e-babe-43f35b4fb140"
   },
   "outputs": [],
   "source": [
    "print(df)"
   ]
  },
  {
   "cell_type": "code",
   "execution_count": null,
   "metadata": {
    "colab": {
     "base_uri": "https://localhost:8080/"
    },
    "executionInfo": {
     "elapsed": 696,
     "status": "ok",
     "timestamp": 1704444169679,
     "user": {
      "displayName": "Pasindu Wijewardhana",
      "userId": "07413258397888837331"
     },
     "user_tz": -330
    },
    "id": "D3vSjscfjwNt",
    "outputId": "e112e4e5-cf5b-4048-a1c0-5a970cbc9ba0"
   },
   "outputs": [],
   "source": [
    "# Select columns for which you want to detect and remove outliers\n",
    "columns_of_interest = ['shortwave_radiation_sum', 'rain_sum']\n",
    "\n",
    "# Calculate the first quartile (Q1) and third quartile (Q3) for each column\n",
    "Q1 = df.quantile(0.25)\n",
    "Q3 = df[columns_of_interest].quantile(0.75)\n",
    "\n",
    "# Calculate the IQR for each column\n",
    "IQR = Q3 - Q1\n",
    "\n",
    "# Define a threshold for considering values as outliers (e.g., 1.5 times IQR)\n",
    "threshold = 1.5\n",
    "\n",
    "# Create a boolean mask for outliers\n",
    "outliers_mask = ((df[columns_of_interest] < (Q1 - threshold * IQR)) |\n",
    "                 (df[columns_of_interest] > (Q3 + threshold * IQR))).any(axis=1)\n",
    "\n",
    "# Check for 0 values in each column\n",
    "zero_values = (df[outliers_mask]).sum()\n",
    "\n",
    "# Display the count of 0 values for each column\n",
    "print(zero_values)"
   ]
  },
  {
   "cell_type": "code",
   "execution_count": null,
   "metadata": {
    "executionInfo": {
     "elapsed": 2,
     "status": "ok",
     "timestamp": 1704444169679,
     "user": {
      "displayName": "Pasindu Wijewardhana",
      "userId": "07413258397888837331"
     },
     "user_tz": -330
    },
    "id": "mI-N8MYymUTX"
   },
   "outputs": [],
   "source": [
    "# Select columns for which you want to detect and remove outliers\n",
    "columns_of_interest = ['shortwave_radiation_sum', 'rain_sum','temperature_2m_max','temperature_2m_min','temperature_2m_mean','apparent_temperature_max','apparent_temperature_min',\n",
    "'apparent_temperature_mean','shortwave_radiation_sum','precipitation_sum','rain_sum','precipitation_hours','windspeed_10m_max','windgusts_10m_max','winddirection_10m_dominant','et0_fao_evapotranspiration',\n",
    "'latitude','longitude','elevation']\n",
    "\n",
    "# Calculate the first quartile (Q1) and third quartile (Q3) for each column\n",
    "Q1 = df[columns_of_interest].quantile(0.25)\n",
    "Q3 = df[columns_of_interest].quantile(0.75)\n",
    "\n",
    "# Calculate the IQR for each column\n",
    "IQR = Q3 - Q1\n",
    "\n",
    "# Define a threshold for considering values as outliers (e.g., 1.5 times IQR)\n",
    "threshold = 1.5\n",
    "\n",
    "# Create a boolean mask for outliers\n",
    "outliers_mask = ((df[columns_of_interest] < (Q1 - threshold * IQR)) |\n",
    "                 (df[columns_of_interest] > (Q3 + threshold * IQR))).any(axis=1)\n",
    "\n",
    "# Remove rows with outliers\n",
    "weather_no_outliers = df[~outliers_mask]"
   ]
  },
  {
   "cell_type": "code",
   "execution_count": null,
   "metadata": {
    "colab": {
     "base_uri": "https://localhost:8080/",
     "height": 617
    },
    "executionInfo": {
     "elapsed": 501,
     "status": "ok",
     "timestamp": 1704444283469,
     "user": {
      "displayName": "Pasindu Wijewardhana",
      "userId": "07413258397888837331"
     },
     "user_tz": -330
    },
    "id": "crkE9qraylpi",
    "outputId": "9d294f97-914f-4238-f925-cc2626b9851d"
   },
   "outputs": [],
   "source": [
    "weather_no_outliers"
   ]
  },
  {
   "cell_type": "code",
   "execution_count": null,
   "metadata": {
    "colab": {
     "base_uri": "https://localhost:8080/"
    },
    "executionInfo": {
     "elapsed": 470,
     "status": "ok",
     "timestamp": 1704446572201,
     "user": {
      "displayName": "Pasindu Wijewardhana",
      "userId": "07413258397888837331"
     },
     "user_tz": -330
    },
    "id": "SXVTrYuw59wO",
    "outputId": "920fce47-0684-41ef-d05e-4fd73626e756"
   },
   "outputs": [],
   "source": [
    "#DROP irrelevant features(columns)\n",
    "# List of columns to drop\n",
    "columns_to_drop = ['time', 'sunrise','rain_sum', 'sunset','snowfall_sum','country','city']\n",
    "\n",
    "# Drop the specified columns\n",
    "weather_no_outliers.drop(columns=columns_to_drop, inplace=True)"
   ]
  },
  {
   "cell_type": "code",
   "execution_count": null,
   "metadata": {
    "colab": {
     "base_uri": "https://localhost:8080/",
     "height": 443
    },
    "executionInfo": {
     "elapsed": 496,
     "status": "ok",
     "timestamp": 1704446579255,
     "user": {
      "displayName": "Pasindu Wijewardhana",
      "userId": "07413258397888837331"
     },
     "user_tz": -330
    },
    "id": "glKXhwPc7qaw",
    "outputId": "b444db62-deda-4021-b752-de98fd94185e"
   },
   "outputs": [],
   "source": [
    "weather_no_outliers"
   ]
  },
  {
   "cell_type": "code",
   "execution_count": null,
   "metadata": {
    "colab": {
     "base_uri": "https://localhost:8080/"
    },
    "executionInfo": {
     "elapsed": 483,
     "status": "ok",
     "timestamp": 1704447443330,
     "user": {
      "displayName": "Pasindu Wijewardhana",
      "userId": "07413258397888837331"
     },
     "user_tz": -330
    },
    "id": "I6ugazB--0cy",
    "outputId": "39cfab94-595c-4b1d-9e27-6e501f325595"
   },
   "outputs": [],
   "source": [
    "# Drop the  weathercode column\n",
    "weather_no_outliers.drop(columns='weathercode', inplace=True)"
   ]
  },
  {
   "cell_type": "code",
   "execution_count": null,
   "metadata": {
    "executionInfo": {
     "elapsed": 1145,
     "status": "ok",
     "timestamp": 1704447656764,
     "user": {
      "displayName": "Pasindu Wijewardhana",
      "userId": "07413258397888837331"
     },
     "user_tz": -330
    },
    "id": "ANgijuGY_KB_"
   },
   "outputs": [],
   "source": [
    "#download the dataset\n",
    "weather_no_outliers.to_csv(\"preprocessed_weather.csv\", index=False)"
   ]
  },
  {
   "cell_type": "code",
   "execution_count": null,
   "metadata": {},
   "outputs": [],
   "source": []
  },
  {
   "cell_type": "code",
   "execution_count": null,
   "metadata": {},
   "outputs": [],
   "source": []
  }
 ],
 "metadata": {
  "colab": {
   "authorship_tag": "ABX9TyNfXw3+azdUGBRh01tZy2bR",
   "provenance": []
  },
  "kernelspec": {
   "display_name": "Python 3 (ipykernel)",
   "language": "python",
   "name": "python3"
  },
  "language_info": {
   "codemirror_mode": {
    "name": "ipython",
    "version": 3
   },
   "file_extension": ".py",
   "mimetype": "text/x-python",
   "name": "python",
   "nbconvert_exporter": "python",
   "pygments_lexer": "ipython3",
   "version": "3.12.2"
  }
 },
 "nbformat": 4,
 "nbformat_minor": 4
}
